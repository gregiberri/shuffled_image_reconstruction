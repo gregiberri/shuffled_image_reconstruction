{
 "cells": [
  {
   "cell_type": "code",
   "execution_count": 62,
   "id": "4c14a71b",
   "metadata": {},
   "outputs": [
    {
     "name": "stdout",
     "output_type": "stream",
     "text": [
      "Previous working dir: /home/albert/PycharmProjects/mnist_shuffle\n",
      "Current working dir: /home/albert/PycharmProjects/mnist_shuffle\n"
     ]
    }
   ],
   "source": [
    "import os\n",
    "import sys\n",
    "\n",
    "# set the working dir to the parent working dir\n",
    "current_working_dir = os.getcwd()\n",
    "print(f'Previous working dir: {current_working_dir}')\n",
    "new_working_dir = current_working_dir.replace('notebooks', '')\n",
    "os.chdir(new_working_dir)\n",
    "sys.path.insert(0, new_working_dir)\n",
    "print(f'Current working dir: {os.getcwd()}')"
   ]
  },
  {
   "cell_type": "code",
   "execution_count": 63,
   "id": "56289c4b",
   "metadata": {},
   "outputs": [],
   "source": [
    "import numpy as np \n",
    "import struct\n",
    "\n",
    "images_path = '/home/albert/data/MNIST/train-images.idx3-ubyte'\n",
    "\n",
    "with open(images_path, 'rb') as imgpath:\n",
    "    magic, num, rows, cols = struct.unpack(\">IIII\", imgpath.read(16))\n",
    "    images = np.fromfile(imgpath, dtype=np.uint8).reshape(-1, 28, 28)"
   ]
  },
  {
   "cell_type": "code",
   "execution_count": 64,
   "id": "e773eb83",
   "metadata": {},
   "outputs": [],
   "source": [
    "tops, bottoms = list(zip(*[(image[:14], image[14:]) for image in images]))\n",
    "top_indices = list(range(len(tops)))\n",
    "bottom_indices = list(range(len(bottoms)))\n",
    "np.random.shuffle(bottom_indices)\n",
    "\n",
    "tops = np.array([tops[top_index] for top_index in top_indices])\n",
    "bottoms = np.array([bottoms[bottom_index] for bottom_index in bottom_indices])"
   ]
  },
  {
   "cell_type": "markdown",
   "id": "c8018c82",
   "metadata": {},
   "source": [
    "## Calculate mean and std"
   ]
  },
  {
   "cell_type": "code",
   "execution_count": 65,
   "id": "375b9f64",
   "metadata": {},
   "outputs": [
    {
     "name": "stdout",
     "output_type": "stream",
     "text": [
      "The image mean: 33.318421449829934, and std: 76.83453865617214\n",
      "The top mean: 31.30753307823129, and std: 74.60034643235738\n",
      "The bottom mean: 35.32930982142857, and std: 78.54682398367856\n"
     ]
    }
   ],
   "source": [
    "image_flat = np.reshape(images, [-1, 784])\n",
    "top_flat = np.reshape(tops, [-1, 392])\n",
    "bottom_flat = np.reshape(bottoms, [-1, 392])\n",
    "\n",
    "image_mean = np.mean(np.mean(image_flat, -1))\n",
    "image_std = np.mean(np.std(image_flat, -1))\n",
    "\n",
    "top_mean = np.mean(np.mean(top_flat, -1))\n",
    "top_std = np.mean(np.std(top_flat, -1))\n",
    "\n",
    "bottom_mean = np.mean(np.mean(bottom_flat, -1))\n",
    "bottom_std = np.mean(np.std(bottom_flat, -1))\n",
    "\n",
    "print(f'The image mean: {image_mean}, and std: {image_std}\\n' \\\n",
    "      f'The top mean: {top_mean}, and std: {top_std}\\n' \\\n",
    "      f'The bottom mean: {bottom_mean}, and std: {bottom_std}')"
   ]
  },
  {
   "cell_type": "markdown",
   "id": "88ffafcf",
   "metadata": {},
   "source": [
    "## Checking the derivative of the middle line in original and shuffled images\n",
    "\n",
    "conclusion: there is a distribution difference, but no significant separation: it can't be used for prediction"
   ]
  },
  {
   "cell_type": "code",
   "execution_count": 105,
   "id": "f4a72eaa",
   "metadata": {},
   "outputs": [
    {
     "data": {
      "image/png": "[encoded data removed]",
      "text/plain": [
       "<Figure size 504x360 with 1 Axes>"
      ]
     },
     "metadata": {
      "needs_background": "light"
     },
     "output_type": "display_data"
    }
   ],
   "source": [
    "import matplotlib.pyplot as plt\n",
    "\n",
    "i = 0\n",
    "\n",
    "original_derivatives = [np.mean(np.abs(image[13]-image[14])) for image in images][i]\n",
    "\n",
    "top = np.expand_dims(tops[i], 0)\n",
    "\n",
    "shuffled_derivates = np.mean((top[:, -1] - bottoms[:, 0]), -1)\n",
    "\n",
    "# # plot\n",
    "fig = plt.figure(figsize=[7, 5])\n",
    "plt.hist(shuffled_derivatives, bins=100, alpha=0.5, label='shuffled')\n",
    "plt.vlines(original_derivatives, 0, 2000, label='original')\n",
    "plt.legend(loc='upper right')\n",
    "plt.show()"
   ]
  },
  {
   "cell_type": "markdown",
   "id": "92d69a62",
   "metadata": {},
   "source": [
    "## Checking the pixel value sum difference in the middle lines of the original and shuffled images\n",
    "\n",
    "conclusion: there is a distribution difference, but no significant separation: it can't be used for prediction"
   ]
  },
  {
   "cell_type": "code",
   "execution_count": 135,
   "id": "edda52c6",
   "metadata": {},
   "outputs": [
    {
     "data": {
      "image/png": "[encoded data removed]",
      "text/plain": [
       "<Figure size 504x360 with 1 Axes>"
      ]
     },
     "metadata": {
      "needs_background": "light"
     },
     "output_type": "display_data"
    }
   ],
   "source": [
    "i = 0\n",
    "\n",
    "original_sums = [np.abs(np.sum(image[13].astype(float))-np.sum(image[14].astype(float))) for image in images][i]\n",
    "\n",
    "original_sums\n",
    "\n",
    "top = np.expand_dims(tops[i], 0)\n",
    "\n",
    "\n",
    "shuffled_sums = np.abs(np.sum(top[:, -1].astype(float), -1, keepdims=True) - np.sum(bottoms[:, 0].astype(float), -1, keepdims=True))\n",
    "\n",
    "# # # plot\n",
    "# fig = plt.figure(figsize=[7, 5])\n",
    "# plt.hist(shuffled_derivatives, bins=100, alpha=0.5, label='shuffled')\n",
    "# plt.legend(loc='upper right')\n",
    "# plt.show()\n",
    "\n",
    "# original_derivatives = [np.abs(np.sum(image[13]).astype(float)-np.sum(image[14]).astype(float))\n",
    "#                         for image in images]\n",
    "# shuffled_derivatives = [np.abs(np.sum(top[-1]).astype(float) - np.sum(bottom[0]).astype(float))\n",
    "#                                 for top, bottom in zip(tops, bottoms)]\n",
    "\n",
    "\n",
    "# # plot\n",
    "fig = plt.figure(figsize=[7, 5])\n",
    "plt.vlines(original_sums, 0, 2000, label='original')\n",
    "plt.hist(shuffled_sums, bins=100, alpha=0.5, label='shuffled')\n",
    "plt.legend(loc='upper right')\n",
    "plt.show()"
   ]
  },
  {
   "cell_type": "code",
   "execution_count": null,
   "id": "4e173f93",
   "metadata": {},
   "outputs": [],
   "source": []
  }
 ],
 "metadata": {
  "kernelspec": {
   "display_name": "Python 3 (ipykernel)",
   "language": "python",
   "name": "python3"
  },
  "language_info": {
   "codemirror_mode": {
    "name": "ipython",
    "version": 3
   },
   "file_extension": ".py",
   "mimetype": "text/x-python",
   "name": "python",
   "nbconvert_exporter": "python",
   "pygments_lexer": "ipython3",
   "version": "3.8.12"
  }
 },
 "nbformat": 4,
 "nbformat_minor": 5
}
